{
 "cells": [
  {
   "cell_type": "code",
   "execution_count": 1,
   "metadata": {},
   "outputs": [
    {
     "name": "stdout",
     "output_type": "stream",
     "text": [
      "Collecting tensorflow\n",
      "  Using cached tensorflow-2.8.0-cp38-cp38-win_amd64.whl (438.0 MB)\n",
      "Note: you may need to restart the kernel to use updated packages.\n",
      "Requirement already satisfied (use --upgrade to upgrade): tensorflow from https://files.pythonhosted.org/packages/17/5b/dac6e0607e4186b9e157597cd96d945aa769c60ef9f9f1b7ddc174f39332/tensorflow-2.8.0-cp38-cp38-win_amd64.whl#sha256=da38d4043185267e7316ae5dc98d18e89c8af4170859f64798e7a3607fd606e3 in c:\\users\\saide\\anaconda3\\lib\\site-packages\n",
      "Requirement already satisfied: typing-extensions>=3.6.6 in c:\\users\\saide\\anaconda3\\lib\\site-packages (from tensorflow) (3.7.4.2)\n",
      "Requirement already satisfied: six>=1.12.0 in c:\\users\\saide\\anaconda3\\lib\\site-packages (from tensorflow) (1.15.0)\n",
      "Requirement already satisfied: h5py>=2.9.0 in c:\\users\\saide\\anaconda3\\lib\\site-packages (from tensorflow) (2.10.0)\n",
      "Requirement already satisfied: flatbuffers>=1.12 in c:\\users\\saide\\anaconda3\\lib\\site-packages (from tensorflow) (2.0)\n",
      "Requirement already satisfied: astunparse>=1.6.0 in c:\\users\\saide\\anaconda3\\lib\\site-packages (from tensorflow) (1.6.3)\n",
      "Requirement already satisfied: wrapt>=1.11.0 in c:\\users\\saide\\anaconda3\\lib\\site-packages (from tensorflow) (1.11.2)\n",
      "Requirement already satisfied: libclang>=9.0.1 in c:\\users\\saide\\anaconda3\\lib\\site-packages (from tensorflow) (14.0.1)\n",
      "Requirement already satisfied: absl-py>=0.4.0 in c:\\users\\saide\\anaconda3\\lib\\site-packages (from tensorflow) (1.0.0)\n",
      "Requirement already satisfied: tensorflow-io-gcs-filesystem>=0.23.1 in c:\\users\\saide\\anaconda3\\lib\\site-packages (from tensorflow) (0.25.0)\n",
      "Requirement already satisfied: keras-preprocessing>=1.1.1 in c:\\users\\saide\\anaconda3\\lib\\site-packages (from tensorflow) (1.1.2)\n",
      "Requirement already satisfied: grpcio<2.0,>=1.24.3 in c:\\users\\saide\\anaconda3\\lib\\site-packages (from tensorflow) (1.46.0)\n",
      "Requirement already satisfied: protobuf>=3.9.2 in c:\\users\\saide\\anaconda3\\lib\\site-packages (from tensorflow) (3.20.1)\n",
      "Requirement already satisfied: google-pasta>=0.1.1 in c:\\users\\saide\\anaconda3\\lib\\site-packages (from tensorflow) (0.2.0)\n",
      "Requirement already satisfied: gast>=0.2.1 in c:\\users\\saide\\anaconda3\\lib\\site-packages (from tensorflow) (0.5.3)\n",
      "Requirement already satisfied: keras<2.9,>=2.8.0rc0 in c:\\users\\saide\\anaconda3\\lib\\site-packages (from tensorflow) (2.8.0)\n",
      "Requirement already satisfied: numpy>=1.20 in c:\\users\\saide\\anaconda3\\lib\\site-packages (from tensorflow) (1.22.3)\n",
      "Requirement already satisfied: tensorboard<2.9,>=2.8 in c:\\users\\saide\\anaconda3\\lib\\site-packages (from tensorflow) (2.8.0)\n",
      "Requirement already satisfied: opt-einsum>=2.3.2 in c:\\users\\saide\\anaconda3\\lib\\site-packages (from tensorflow) (3.3.0)\n",
      "Requirement already satisfied: tf-estimator-nightly==2.8.0.dev2021122109 in c:\\users\\saide\\anaconda3\\lib\\site-packages (from tensorflow) (2.8.0.dev2021122109)\n",
      "Requirement already satisfied: termcolor>=1.1.0 in c:\\users\\saide\\anaconda3\\lib\\site-packages (from tensorflow) (1.1.0)\n",
      "Requirement already satisfied: setuptools in c:\\users\\saide\\anaconda3\\lib\\site-packages (from tensorflow) (49.2.0.post20200714)\n",
      "Requirement already satisfied: wheel<1.0,>=0.23.0 in c:\\users\\saide\\anaconda3\\lib\\site-packages (from astunparse>=1.6.0->tensorflow) (0.34.2)\n",
      "Requirement already satisfied: google-auth<3,>=1.6.3 in c:\\users\\saide\\anaconda3\\lib\\site-packages (from tensorboard<2.9,>=2.8->tensorflow) (2.6.6)\n",
      "Requirement already satisfied: google-auth-oauthlib<0.5,>=0.4.1 in c:\\users\\saide\\anaconda3\\lib\\site-packages (from tensorboard<2.9,>=2.8->tensorflow) (0.4.6)\n",
      "Requirement already satisfied: requests<3,>=2.21.0 in c:\\users\\saide\\anaconda3\\lib\\site-packages (from tensorboard<2.9,>=2.8->tensorflow) (2.24.0)\n",
      "Requirement already satisfied: markdown>=2.6.8 in c:\\users\\saide\\anaconda3\\lib\\site-packages (from tensorboard<2.9,>=2.8->tensorflow) (3.3.6)\n",
      "Requirement already satisfied: tensorboard-plugin-wit>=1.6.0 in c:\\users\\saide\\anaconda3\\lib\\site-packages (from tensorboard<2.9,>=2.8->tensorflow) (1.8.1)\n",
      "Requirement already satisfied: werkzeug>=0.11.15 in c:\\users\\saide\\anaconda3\\lib\\site-packages (from tensorboard<2.9,>=2.8->tensorflow) (1.0.1)\n",
      "Requirement already satisfied: tensorboard-data-server<0.7.0,>=0.6.0 in c:\\users\\saide\\anaconda3\\lib\\site-packages (from tensorboard<2.9,>=2.8->tensorflow) (0.6.1)\n",
      "Requirement already satisfied: cachetools<6.0,>=2.0.0 in c:\\users\\saide\\anaconda3\\lib\\site-packages (from google-auth<3,>=1.6.3->tensorboard<2.9,>=2.8->tensorflow) (5.0.0)\n",
      "Requirement already satisfied: pyasn1-modules>=0.2.1 in c:\\users\\saide\\anaconda3\\lib\\site-packages (from google-auth<3,>=1.6.3->tensorboard<2.9,>=2.8->tensorflow) (0.2.8)\n",
      "Requirement already satisfied: rsa<5,>=3.1.4; python_version >= \"3.6\" in c:\\users\\saide\\anaconda3\\lib\\site-packages (from google-auth<3,>=1.6.3->tensorboard<2.9,>=2.8->tensorflow) (4.8)\n",
      "Requirement already satisfied: requests-oauthlib>=0.7.0 in c:\\users\\saide\\anaconda3\\lib\\site-packages (from google-auth-oauthlib<0.5,>=0.4.1->tensorboard<2.9,>=2.8->tensorflow) (1.3.1)\n",
      "Requirement already satisfied: certifi>=2017.4.17 in c:\\users\\saide\\anaconda3\\lib\\site-packages (from requests<3,>=2.21.0->tensorboard<2.9,>=2.8->tensorflow) (2020.6.20)\n",
      "Requirement already satisfied: urllib3!=1.25.0,!=1.25.1,<1.26,>=1.21.1 in c:\\users\\saide\\anaconda3\\lib\\site-packages (from requests<3,>=2.21.0->tensorboard<2.9,>=2.8->tensorflow) (1.25.9)\n",
      "Requirement already satisfied: chardet<4,>=3.0.2 in c:\\users\\saide\\anaconda3\\lib\\site-packages (from requests<3,>=2.21.0->tensorboard<2.9,>=2.8->tensorflow) (3.0.4)\n",
      "Requirement already satisfied: idna<3,>=2.5 in c:\\users\\saide\\anaconda3\\lib\\site-packages (from requests<3,>=2.21.0->tensorboard<2.9,>=2.8->tensorflow) (2.10)\n",
      "Requirement already satisfied: importlib-metadata>=4.4; python_version < \"3.10\" in c:\\users\\saide\\anaconda3\\lib\\site-packages (from markdown>=2.6.8->tensorboard<2.9,>=2.8->tensorflow) (4.11.3)\n",
      "Requirement already satisfied: pyasn1<0.5.0,>=0.4.6 in c:\\users\\saide\\anaconda3\\lib\\site-packages (from pyasn1-modules>=0.2.1->google-auth<3,>=1.6.3->tensorboard<2.9,>=2.8->tensorflow) (0.4.8)\n",
      "Requirement already satisfied: oauthlib>=3.0.0 in c:\\users\\saide\\anaconda3\\lib\\site-packages (from requests-oauthlib>=0.7.0->google-auth-oauthlib<0.5,>=0.4.1->tensorboard<2.9,>=2.8->tensorflow) (3.2.0)\n",
      "Requirement already satisfied: zipp>=0.5 in c:\\users\\saide\\anaconda3\\lib\\site-packages (from importlib-metadata>=4.4; python_version < \"3.10\"->markdown>=2.6.8->tensorboard<2.9,>=2.8->tensorflow) (3.1.0)\n"
     ]
    }
   ],
   "source": [
    "pip install tensorflow"
   ]
  },
  {
   "cell_type": "code",
   "execution_count": 2,
   "metadata": {},
   "outputs": [],
   "source": [
    "import pandas as pd\n",
    "import numpy as np\n",
    "import librosa as rosa\n",
    "import os\n",
    "import tensorflow.keras as keras\n",
    "import statistics"
   ]
  },
  {
   "cell_type": "markdown",
   "metadata": {},
   "source": [
    "<h1>Counting Audio Frames</h1>"
   ]
  },
  {
   "cell_type": "code",
   "execution_count": 2,
   "metadata": {},
   "outputs": [
    {
     "name": "stdout",
     "output_type": "stream",
     "text": [
      "230\n"
     ]
    }
   ],
   "source": [
    "\n",
    "folder_path = 'C:/Users/saide/Downloads/ravdess'\n",
    "\n",
    "folder_list = os.listdir(folder_path)\n",
    "\n",
    "num_frames = []\n",
    "\n",
    "for foldername in folder_list:\n",
    "    file_path = folder_path + '/' + foldername\n",
    "    file_list = os.listdir(file_path)\n",
    "    for filename in file_list:\n",
    "        # Read WAV file. 'rosa.core.load' returns sampling frequency in 'fs' and audio signal in 'sig'.\n",
    "        sig, fs = rosa.core.load(file_path + '/' + filename, sr=16000)\n",
    "\n",
    "        rms_feat = rosa.feature.rms(y=sig, frame_length=512, hop_length=256)\n",
    "        num_frames.append(rms_feat.shape[1])\n",
    "\n",
    "    os.chdir('..')\n",
    "    \n",
    "# Calculate the Median of the number of frames for all audio files..\n",
    "median_num_frames = statistics.median(num_frames)\n",
    "\n",
    "median_num_frames = int(median_num_frames)\n",
    "print(median_num_frames)"
   ]
  },
  {
   "cell_type": "markdown",
   "metadata": {},
   "source": [
    "<h1>Extracting Features</h1>"
   ]
  },
  {
   "cell_type": "code",
   "execution_count": 3,
   "metadata": {},
   "outputs": [
    {
     "name": "stdout",
     "output_type": "stream",
     "text": [
      "(1440, 8281)\n"
     ]
    }
   ],
   "source": [
    "# Declare a dummy Numpy array (row vector).\n",
    "result_array = np.empty([1, (36*median_num_frames)+1])\n",
    "\n",
    "# Declare a variable to be later used in reshaping the feature array.\n",
    "i = 0\n",
    "\n",
    "# Loop for feature extraction.\n",
    "for foldername in folder_list:\n",
    "    file_path = folder_path + '/' + foldername\n",
    "    file_list = os.listdir(file_path)\n",
    "    for filename in file_list:\n",
    "        # Read WAV file. 'rosa.core.load' returns sampling frequency in 'fs' and audio signal in 'sig'.\n",
    "        sig, fs = rosa.core.load(file_path + '/' + filename, sr=16000)\n",
    "        \n",
    "        # 'rosa.feature.mfcc' extracts n_mfccs from signal and stores it into 'mfcc_feat'\n",
    "        mfcc_feat = rosa.feature.mfcc(y=sig, sr=fs, n_mfcc=26, n_fft=512, hop_length=256, htk=True)\n",
    "        spec_feat = rosa.feature.spectral_contrast(y=sig, sr=fs, n_fft=512, hop_length=256)\n",
    "        poly_feat = rosa.feature.poly_features(y=sig, sr=fs, n_fft=512, hop_length=256)\n",
    "        rms_feat = rosa.feature.rms(y=sig, frame_length=512, hop_length=256)\n",
    "\n",
    "        # Append the three 1D arrays into a single 1D array called 'feat'.\n",
    "        feat0 = np.append(mfcc_feat, spec_feat, axis=0)\n",
    "        feat1 = np.append(feat0, poly_feat, axis=0)\n",
    "        feat2 = np.append(feat1, rms_feat, axis=0)\n",
    "\n",
    "        # Transpose the array to flip the rows and columns. This is done so that the features become column parameters, making each row an audio frame.\n",
    "        transp_feat = feat2.T\n",
    "\n",
    "        # Note: The 'cap frame number' is basically the limit we set for the number of frames for each audio file, so that all audio files have equal lengths when processing.\n",
    "        \n",
    "        if transp_feat.shape[0] < median_num_frames:\n",
    "            # If number of frames is smaller than the cap frame number, we pad the array in order to reach our desired dimensions.\n",
    "            # Pad the array so that it matches the cap frame number. The second value in the argument contains two tuples which indicate which way to pad how much.  \n",
    "            transp_feat = np.pad(transp_feat, ((0, median_num_frames-transp_feat.shape[0]), (0,0)), constant_values=0)\n",
    "\n",
    "        elif transp_feat.shape[0] > median_num_frames:\n",
    "            # If number of frames is larger than the cap frame number, we delete rows (frames) which exceed the cap frame number in order to reach our desired dimensions.\n",
    "            # Define a tuple which contains the range of the row indices to delete.\n",
    "            row_del_index = (range(median_num_frames, transp_feat.shape[0], 1))\n",
    "            transp_feat = np.delete(transp_feat, row_del_index, axis=0)\n",
    "\n",
    "        else:\n",
    "            # If number of frames match the cap frame length, perfect!\n",
    "            transp_feat = transp_feat\n",
    "\n",
    "        # Transpose again to flip the rows and columns. This is done so that the features become row parameters, making each column an audio frame.\n",
    "        transp2_feat = transp_feat.T\n",
    "\n",
    "        # Flatten the entire 2D Numpy array into 1D Numpy array. So, the first 36 values of the 1D array represent the features for first frame, the second 36 represent the features for second frame, and so on till the final (cap) frame.\n",
    "        # 'C' means row-major ordered flattening.\n",
    "        feat_flatten = transp2_feat.flatten('C')\n",
    "\n",
    "        # Save emotion label from file name.\n",
    "        label = os.path.splitext(os.path.basename(file_path + '/' + filename))[0].split('-')[2]\n",
    "\n",
    "        # Create a new Numpy array 'sample' to store features along with label.\n",
    "        sample = np.insert(feat_flatten, obj=36*median_num_frames, values=label)\n",
    "\n",
    "        result_array = np.append(result_array, sample)\n",
    "\n",
    "        i += 1\n",
    "    \n",
    "    # Go one level up in the directory tree.\n",
    "    os.chdir('..')\n",
    "    \n",
    "\n",
    "# Convert 1D Numpy array to 2D array. Argument must be a Tuple. i+1 because we have i audio files plus a dummy row.\n",
    "result_array = np.reshape(result_array, (i+1,-1))\n",
    "\n",
    "# Delete first dummy row from 2D array.\n",
    "result_array = np.delete(result_array, 0, 0)\n",
    "\n",
    "# Save the feature array into a Pandas dataframe.\n",
    "df = pd.DataFrame(data=result_array)\n",
    "print(df.shape)"
   ]
  },
  {
   "cell_type": "markdown",
   "metadata": {},
   "source": [
    "<h1>Saving Features to CSV</h1>\n",
    "\n",
    "We can now save the Pandas dataframe containing all the features as a CSV file. For this project, we will only use data for seven emotions - happy, sad, anger, fear, surprise, and neutral. Also, we will replace the integer labels that we got from the file names with string labels for better readability."
   ]
  },
  {
   "cell_type": "code",
   "execution_count": 4,
   "metadata": {},
   "outputs": [
    {
     "name": "stdout",
     "output_type": "stream",
     "text": [
      "Done!\n"
     ]
    }
   ],
   "source": [
    "# Label only the last (target) column.\n",
    "df = df.rename({36*median_num_frames: \"Emotion\"}, axis='columns')\n",
    "# Delete calm emotion data.\n",
    "df.drop(df[df['Emotion'] == 2.0].index, inplace = True)\n",
    "# Rename integer labels with string labels.\n",
    "df['Emotion'].replace({1.0: \"Neutral\", 3.0: \"Happy\", 4.0: \"Sad\", 5.0: \"Angry\", 6.0: \"Fearful\", 7.0: \"Disgust\", 8.0: \"Surprised\"}, inplace=True)\n",
    "# Reset row (audio files) indexing.\n",
    "df = df.reset_index(drop=True)\n",
    "\n",
    "# Save as CSV file.\n",
    "df.to_csv(\"C:/Users/saide/OneDrive/Desktop/TDL/SER-RNN-final/RAVDESS_Librosa_RNN.csv\")\n",
    "print(\"Done!\")"
   ]
  },
  {
   "cell_type": "code",
   "execution_count": null,
   "metadata": {},
   "outputs": [],
   "source": []
  }
 ],
 "metadata": {
  "kernelspec": {
   "display_name": "Python 3",
   "language": "python",
   "name": "python3"
  },
  "language_info": {
   "codemirror_mode": {
    "name": "ipython",
    "version": 3
   },
   "file_extension": ".py",
   "mimetype": "text/x-python",
   "name": "python",
   "nbconvert_exporter": "python",
   "pygments_lexer": "ipython3",
   "version": "3.8.3"
  }
 },
 "nbformat": 4,
 "nbformat_minor": 4
}
