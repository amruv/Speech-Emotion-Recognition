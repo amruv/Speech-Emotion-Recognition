{
 "cells": [
  {
   "cell_type": "code",
   "execution_count": 1,
   "metadata": {},
   "outputs": [],
   "source": [
    "import pandas as pd\n",
    "import numpy as np\n",
    "import matplotlib.pyplot as plt\n",
    "import librosa as rosa\n",
    "import os\n",
    "from sklearn.utils import resample\n",
    "from sklearn.model_selection import train_test_split\n",
    "import tensorflow as tf\n",
    "import tensorflow.keras as keras\n",
    "import statistics\n",
    "from sklearn.utils import resample\n",
    "from tensorflow.keras.callbacks import LearningRateScheduler"
   ]
  },
  {
   "cell_type": "markdown",
   "metadata": {},
   "source": [
    "<h1>Setting Random Seeds</h1>"
   ]
  },
  {
   "cell_type": "code",
   "execution_count": 2,
   "metadata": {},
   "outputs": [],
   "source": [
    "# Set the random seeds for replicating results over multiple runs.\n",
    "np.random.seed(0)\n",
    "tf.random.set_seed(0)"
   ]
  },
  {
   "cell_type": "markdown",
   "metadata": {},
   "source": [
    "<h1>Importing Features from CSV</h1>"
   ]
  },
  {
   "cell_type": "code",
   "execution_count": 3,
   "metadata": {},
   "outputs": [],
   "source": [
    "# Using first row as column header and first column as row header.\n",
    "df = pd.read_csv(\"C:/Users/saide/OneDrive/Desktop/TDL/SER-RNN-final/RAVDESS_Librosa_RNN.csv\", header=0, index_col=0)\n",
    "\n",
    "# We used 36 features. Column of dataframe represents the features (36*median_num_frames), and -1 to avoid considering column indexes.\n",
    "median_num_frames = (df.shape[1]-1)//36\n",
    "\n",
    "# Rename target labels.\n",
    "df['Emotion'].replace({\"Neutral\" : 1.0, \"Happy\" : 2.0, \"Sad\" : 3.0, \"Angry\" : 4.0, \"Fearful\" : 5.0, \"Disgust\" : 6.0, \"Surprised\" : 7.0}, inplace=True)"
   ]
  },
  {
   "cell_type": "code",
   "execution_count": 4,
   "metadata": {},
   "outputs": [],
   "source": [
    "# Takes data samples of each class from dataframe into separate dataframes.\n",
    "df_happy = df.loc[df.Emotion==2.0]\n",
    "df_sad = df[df.Emotion==3.0]\n",
    "df_angry = df[df.Emotion==4.0]\n",
    "df_fearful = df[df.Emotion==5.0]\n",
    "df_disgust = df[df.Emotion==6.0]\n",
    "df_neutral = df[df.Emotion==1.0]\n",
    "df_surprised = df[df.Emotion==7.0]\n",
    "\n",
    "df_maj = pd.concat([df_happy, df_sad, df_angry, df_fearful, df_disgust, df_surprised])\n",
    "\n",
    "# Extracts labels of majority classes.\n",
    "y_maj = df_maj.iloc[0:1152, 36*median_num_frames].values\n",
    "# Extract features of majority classes.\n",
    "X_maj = df_maj.iloc[0:1152, list(range(36*median_num_frames))].values\n",
    "\n",
    "# Split and stratify majority class samples for training and testing.\n",
    "X_train_temp_maj, X_test_maj, y_train_temp_maj, y_test_maj = train_test_split(X_maj, y_maj, test_size=115, random_state=0, stratify=y_maj) # training split = 90%, test split = 10%\n",
    "\n",
    "# Further split and stratify majority class training samples for training data for training and validating.\n",
    "X_train_maj, X_val_maj, y_train_maj, y_val_maj = train_test_split(X_train_temp_maj, y_train_temp_maj, test_size=115, random_state=0, stratify=y_train_temp_maj) # training split = 80%, validation split = 10%\n",
    "\n",
    "# Take minority data samples from dataframe to array.\n",
    "neutral_array = df_neutral.to_numpy()\n",
    "\n",
    "# Shuffle the data samples of minority class.\n",
    "np.random.shuffle(neutral_array)\n",
    "\n",
    "# Split minority class Neutral in 80:10:10 ratio.\n",
    "train_neutral = neutral_array[0:76, :]\n",
    "val_neutral = neutral_array[76:86, :]\n",
    "test_neutral = neutral_array[86:96, :]\n",
    "\n",
    "# Resampling Neutral data to match majority class samples.\n",
    "train_neutral_resampled = resample(train_neutral, n_samples=154, replace=True, random_state=0)\n",
    "val_neutral_resampled = resample(val_neutral, n_samples=19, replace=True, random_state=0)\n",
    "test_neutral_resampled = resample(test_neutral, n_samples=19, replace=True, random_state=0)\n",
    "\n",
    "# Separate features and target labels for Neutral data.\n",
    "X_train_neutral = train_neutral_resampled[:, 0:36*median_num_frames]\n",
    "X_val_neutral = val_neutral_resampled[:, 0:36*median_num_frames]\n",
    "X_test_neutral = test_neutral_resampled[:, 0:36*median_num_frames]\n",
    "y_train_neutral = train_neutral_resampled[:, 36*median_num_frames]\n",
    "y_val_neutral = val_neutral_resampled[:, 36*median_num_frames]\n",
    "y_test_neutral = test_neutral_resampled[:, 36*median_num_frames]\n",
    "\n",
    "# Join upsampled minority data samples with majority data samples.\n",
    "X_train = np.concatenate((X_train_maj, X_train_neutral), axis=0)\n",
    "X_val = np.concatenate((X_val_maj, X_val_neutral), axis=0)\n",
    "X_test = np.concatenate((X_test_maj, X_test_neutral), axis=0)\n",
    "y_train = np.concatenate((y_train_maj, y_train_neutral), axis=0)\n",
    "y_val = np.concatenate((y_val_maj, y_val_neutral), axis=0)\n",
    "y_test = np.concatenate((y_test_maj, y_test_neutral), axis=0)"
   ]
  },
  {
   "cell_type": "markdown",
   "metadata": {},
   "source": [
    "<h1>Scaling the Features</h1>"
   ]
  },
  {
   "cell_type": "code",
   "execution_count": 5,
   "metadata": {},
   "outputs": [
    {
     "name": "stdout",
     "output_type": "stream",
     "text": [
      "(1076, 8280) (1076,)\n",
      "(134, 8280) (134,)\n",
      "(134, 8280) (134,)\n"
     ]
    }
   ],
   "source": [
    "# Calculate the mean and standard deviation of the features.\n",
    "mean_X = np.mean(X_train, axis=0)\n",
    "std_X = np.std(X_train, axis=0)\n",
    "\n",
    "# Standardize the inputs.\n",
    "X_train_centered = (X_train - mean_X)/std_X\n",
    "X_val_centered = (X_val - mean_X)/std_X\n",
    "X_test_centered = (X_test - mean_X)/std_X\n",
    "\n",
    "# Delete old variables to save space.\n",
    "del X_train, X_val, X_test, X_train_temp_maj, y_train_temp_maj\n",
    "\n",
    "print(X_train_centered.shape, y_train.shape)\n",
    "print(X_val_centered.shape, y_val.shape)\n",
    "print(X_test_centered.shape, y_test.shape)"
   ]
  },
  {
   "cell_type": "markdown",
   "metadata": {},
   "source": [
    "<h1>One-hot Encoding the Labels</h1>"
   ]
  },
  {
   "cell_type": "code",
   "execution_count": 6,
   "metadata": {},
   "outputs": [],
   "source": [
    "# One-Hot Encode the classes.\n",
    "y_train_onehot = keras.utils.to_categorical(y_train)\n",
    "y_val_onehot = keras.utils.to_categorical(y_val)\n",
    "y_test_onehot = keras.utils.to_categorical(y_test)"
   ]
  },
  {
   "cell_type": "markdown",
   "metadata": {},
   "source": [
    "<h1>Reshaping Input Arrays</h1>\n",
    "\n",
    "RNNs require 3D arrays (tensors) for input. The three dimensions are batch (i.e. number of data samples), timesteps, and features per timestep."
   ]
  },
  {
   "cell_type": "code",
   "execution_count": 7,
   "metadata": {
    "scrolled": true
   },
   "outputs": [
    {
     "name": "stdout",
     "output_type": "stream",
     "text": [
      "(1076, 230, 36) (1076,)\n",
      "(134, 230, 36) (134,)\n",
      "(134, 230, 36) (134,)\n",
      "(1076, 36, 230) (1076,)\n",
      "(134, 36, 230) (134,)\n",
      "(134, 36, 230) (134,)\n"
     ]
    }
   ],
   "source": [
    "# Reshaping X_train and X_test to 3D Numpy arrays for feeding into the RNN.\n",
    "X_train_3D = np.reshape(X_train_centered, (X_train_centered.shape[0], median_num_frames, 36))\n",
    "X_val_3D = np.reshape(X_val_centered, (X_val_centered.shape[0], median_num_frames, 36))\n",
    "X_test_3D = np.reshape(X_test_centered, (X_test_centered.shape[0], median_num_frames, 36))\n",
    "\n",
    "print(X_train_3D.shape, y_train.shape)\n",
    "print(X_val_3D.shape, y_val.shape)\n",
    "print(X_test_3D.shape, y_test.shape)\n",
    "\n",
    "# Transposing tensors\n",
    "X_train_3D_posed = tf.transpose(X_train_3D, perm=[0, 2, 1])\n",
    "X_val_3D_posed = tf.transpose(X_val_3D, perm=[0, 2, 1])\n",
    "X_test_3D_posed = tf.transpose(X_test_3D, perm=[0, 2, 1])\n",
    "\n",
    "print(X_train_3D_posed.shape, y_train.shape)\n",
    "print(X_val_3D_posed.shape, y_val.shape)\n",
    "print(X_test_3D_posed.shape, y_test.shape)"
   ]
  },
  {
   "cell_type": "markdown",
   "metadata": {},
   "source": [
    "<h1>Defining RNN Architecture</h1>\n",
    "\n",
    "USing LSTM. We will use 36 LSTM cells for our 36 features at the input."
   ]
  },
  {
   "cell_type": "code",
   "execution_count": 9,
   "metadata": {},
   "outputs": [],
   "source": [
    "model = keras.models.Sequential()\n",
    "\n",
    "model.add(\n",
    "    keras.layers.LSTM( units=36,\n",
    "                input_shape=(36, median_num_frames),\n",
    "                kernel_initializer='glorot_uniform',\n",
    "                bias_initializer='zeros',\n",
    "                activation='tanh',\n",
    "                recurrent_activation='sigmoid',\n",
    "                dropout=0.30,\n",
    "                recurrent_dropout=0.30,\n",
    "                return_sequences=True))\n",
    "\n",
    "model.add(\n",
    "    keras.layers.LSTM( units=12,\n",
    "                input_shape=(36, median_num_frames),\n",
    "                kernel_initializer='glorot_uniform',\n",
    "                bias_initializer='zeros',\n",
    "                activation='tanh',\n",
    "                recurrent_activation='sigmoid',\n",
    "                dropout=0.30))\n",
    "\n",
    "model.add(\n",
    "    keras.layers.Dense( units=y_train_onehot.shape[1],\n",
    "                input_dim=36,\n",
    "                kernel_initializer='glorot_uniform',\n",
    "                bias_initializer='zeros',\n",
    "                activation='softmax'))"
   ]
  },
  {
   "cell_type": "markdown",
   "metadata": {},
   "source": [
    "<h1>Defining the Optimizer and Loss Function</h1>\n",
    "\n",
    "We will use the Adam optimizer and the categorical crossentropy loss and a learning rate scheduler."
   ]
  },
  {
   "cell_type": "code",
   "execution_count": 10,
   "metadata": {},
   "outputs": [],
   "source": [
    "# Define the learning rate schedule. This can then be passed as the learning rate for the optimizer.\n",
    "lrate = keras.optimizers.schedules.InverseTimeDecay(initial_learning_rate=0.01, decay_steps=1000, decay_rate=0.8)\n",
    "\n",
    "adam_optimizer = keras.optimizers.Adam(learning_rate=lrate)\n",
    "\n",
    "model.compile(optimizer=adam_optimizer, loss='categorical_crossentropy', metrics=[keras.metrics.CategoricalAccuracy()])"
   ]
  },
  {
   "cell_type": "markdown",
   "metadata": {},
   "source": [
    "<h1>Fitting the Model</h1>"
   ]
  },
  {
   "cell_type": "code",
   "execution_count": 11,
   "metadata": {},
   "outputs": [
    {
     "name": "stdout",
     "output_type": "stream",
     "text": [
      "Epoch 1/30\n",
      "68/68 [==============================] - 9s 47ms/step - loss: 1.6691 - categorical_accuracy: 0.4015 - val_loss: 1.5272 - val_categorical_accuracy: 0.4328\n",
      "Epoch 2/30\n",
      "68/68 [==============================] - 3s 39ms/step - loss: 1.2399 - categorical_accuracy: 0.5586 - val_loss: 1.4265 - val_categorical_accuracy: 0.4328\n",
      "Epoch 3/30\n",
      "68/68 [==============================] - 2s 34ms/step - loss: 0.9646 - categorical_accuracy: 0.6636 - val_loss: 1.3319 - val_categorical_accuracy: 0.5075\n",
      "Epoch 4/30\n",
      "68/68 [==============================] - 2s 36ms/step - loss: 0.8281 - categorical_accuracy: 0.7258 - val_loss: 1.5423 - val_categorical_accuracy: 0.4627\n",
      "Epoch 5/30\n",
      "68/68 [==============================] - 2s 33ms/step - loss: 0.7087 - categorical_accuracy: 0.7686 - val_loss: 1.4047 - val_categorical_accuracy: 0.5448\n",
      "Epoch 6/30\n",
      "68/68 [==============================] - 2s 36ms/step - loss: 0.5217 - categorical_accuracy: 0.8318 - val_loss: 1.4559 - val_categorical_accuracy: 0.5373\n",
      "Epoch 7/30\n",
      "68/68 [==============================] - 2s 35ms/step - loss: 0.4660 - categorical_accuracy: 0.8522 - val_loss: 1.4480 - val_categorical_accuracy: 0.5597\n",
      "Epoch 8/30\n",
      "68/68 [==============================] - 3s 39ms/step - loss: 0.3799 - categorical_accuracy: 0.8931 - val_loss: 1.5230 - val_categorical_accuracy: 0.5448\n",
      "Epoch 9/30\n",
      "68/68 [==============================] - 2s 36ms/step - loss: 0.3722 - categorical_accuracy: 0.8857 - val_loss: 1.4563 - val_categorical_accuracy: 0.5448\n",
      "Epoch 10/30\n",
      "68/68 [==============================] - 2s 34ms/step - loss: 0.3130 - categorical_accuracy: 0.9033 - val_loss: 1.5670 - val_categorical_accuracy: 0.5299\n",
      "Epoch 11/30\n",
      "68/68 [==============================] - 3s 38ms/step - loss: 0.2841 - categorical_accuracy: 0.9080 - val_loss: 1.4463 - val_categorical_accuracy: 0.6269\n",
      "Epoch 12/30\n",
      "68/68 [==============================] - 2s 35ms/step - loss: 0.2804 - categorical_accuracy: 0.9089 - val_loss: 1.5151 - val_categorical_accuracy: 0.6269\n",
      "Epoch 13/30\n",
      "68/68 [==============================] - 2s 32ms/step - loss: 0.2312 - categorical_accuracy: 0.9257 - val_loss: 1.5557 - val_categorical_accuracy: 0.6194\n",
      "Epoch 14/30\n",
      "68/68 [==============================] - 2s 31ms/step - loss: 0.2420 - categorical_accuracy: 0.9238 - val_loss: 1.7513 - val_categorical_accuracy: 0.5522\n",
      "Epoch 15/30\n",
      "68/68 [==============================] - 2s 31ms/step - loss: 0.2009 - categorical_accuracy: 0.9405 - val_loss: 1.6824 - val_categorical_accuracy: 0.6045\n",
      "Epoch 16/30\n",
      "68/68 [==============================] - 2s 32ms/step - loss: 0.2266 - categorical_accuracy: 0.9331 - val_loss: 1.4909 - val_categorical_accuracy: 0.6269\n",
      "Epoch 17/30\n",
      "68/68 [==============================] - 2s 34ms/step - loss: 0.1625 - categorical_accuracy: 0.9470 - val_loss: 1.4882 - val_categorical_accuracy: 0.6567\n",
      "Epoch 18/30\n",
      "68/68 [==============================] - 3s 39ms/step - loss: 0.1429 - categorical_accuracy: 0.9554 - val_loss: 1.4772 - val_categorical_accuracy: 0.6493\n",
      "Epoch 19/30\n",
      "68/68 [==============================] - 2s 36ms/step - loss: 0.1391 - categorical_accuracy: 0.9545 - val_loss: 1.6251 - val_categorical_accuracy: 0.5896\n",
      "Epoch 20/30\n",
      "68/68 [==============================] - 2s 33ms/step - loss: 0.1049 - categorical_accuracy: 0.9721 - val_loss: 1.7750 - val_categorical_accuracy: 0.5821\n",
      "Epoch 21/30\n",
      "68/68 [==============================] - 2s 33ms/step - loss: 0.0902 - categorical_accuracy: 0.9740 - val_loss: 1.8403 - val_categorical_accuracy: 0.5672\n",
      "Epoch 22/30\n",
      "68/68 [==============================] - 2s 34ms/step - loss: 0.0865 - categorical_accuracy: 0.9740 - val_loss: 1.8495 - val_categorical_accuracy: 0.5522\n",
      "Epoch 23/30\n",
      "68/68 [==============================] - 2s 34ms/step - loss: 0.0697 - categorical_accuracy: 0.9796 - val_loss: 1.9368 - val_categorical_accuracy: 0.5448\n",
      "Epoch 24/30\n",
      "68/68 [==============================] - 2s 33ms/step - loss: 0.0909 - categorical_accuracy: 0.9712 - val_loss: 1.7907 - val_categorical_accuracy: 0.5746\n",
      "Epoch 25/30\n",
      "68/68 [==============================] - 2s 32ms/step - loss: 0.0673 - categorical_accuracy: 0.9805 - val_loss: 1.6927 - val_categorical_accuracy: 0.6269\n",
      "Epoch 26/30\n",
      "68/68 [==============================] - 2s 33ms/step - loss: 0.0551 - categorical_accuracy: 0.9870 - val_loss: 1.8940 - val_categorical_accuracy: 0.5672\n",
      "Epoch 27/30\n",
      "68/68 [==============================] - 2s 33ms/step - loss: 0.0651 - categorical_accuracy: 0.9786 - val_loss: 1.7859 - val_categorical_accuracy: 0.6119\n",
      "Epoch 28/30\n",
      "68/68 [==============================] - 2s 33ms/step - loss: 0.1109 - categorical_accuracy: 0.9647 - val_loss: 1.8648 - val_categorical_accuracy: 0.5821\n",
      "Epoch 29/30\n",
      "68/68 [==============================] - 2s 34ms/step - loss: 0.0614 - categorical_accuracy: 0.9796 - val_loss: 1.6579 - val_categorical_accuracy: 0.6493\n",
      "Epoch 30/30\n",
      "68/68 [==============================] - 2s 36ms/step - loss: 0.0434 - categorical_accuracy: 0.9888 - val_loss: 1.5817 - val_categorical_accuracy: 0.6567\n",
      "{'loss': [1.6690940856933594, 1.2399427890777588, 0.9645854234695435, 0.8280860185623169, 0.7087396383285522, 0.5217077136039734, 0.46603336930274963, 0.3798574209213257, 0.37218227982521057, 0.3130110800266266, 0.2840980589389801, 0.2804156541824341, 0.2312489151954651, 0.24199852347373962, 0.20094773173332214, 0.2265813797712326, 0.16253891587257385, 0.1429048776626587, 0.13906455039978027, 0.10493255406618118, 0.09016062319278717, 0.08653413504362106, 0.06970442831516266, 0.09087715297937393, 0.0672827959060669, 0.055054303258657455, 0.06509696692228317, 0.11089424043893814, 0.06143927946686745, 0.04340958967804909], 'categorical_accuracy': [0.40148699283599854, 0.5585501790046692, 0.6635687947273254, 0.725836455821991, 0.7685873508453369, 0.8317843675613403, 0.8522304892539978, 0.893122673034668, 0.8856877088546753, 0.9033457040786743, 0.9079925417900085, 0.9089219570159912, 0.9256505370140076, 0.9237918257713318, 0.9405204653739929, 0.9330855011940002, 0.9470260143280029, 0.9553903341293335, 0.9544609785079956, 0.9721189737319946, 0.9739776849746704, 0.9739776849746704, 0.9795538783073425, 0.9711896181106567, 0.9804832935333252, 0.9869888424873352, 0.9786245226860046, 0.964684009552002, 0.9795538783073425, 0.9888476133346558], 'val_loss': [1.5272424221038818, 1.4264787435531616, 1.3319456577301025, 1.5423271656036377, 1.4046703577041626, 1.4559463262557983, 1.4479559659957886, 1.5230333805084229, 1.4563484191894531, 1.5670439004898071, 1.4463355541229248, 1.5151307582855225, 1.555749773979187, 1.7513458728790283, 1.6823599338531494, 1.4909087419509888, 1.4881722927093506, 1.4772413969039917, 1.6251407861709595, 1.7749837636947632, 1.8403117656707764, 1.8494921922683716, 1.9368418455123901, 1.79073965549469, 1.6926543712615967, 1.894007682800293, 1.7859456539154053, 1.8648380041122437, 1.6578683853149414, 1.581724762916565], 'val_categorical_accuracy': [0.43283581733703613, 0.43283581733703613, 0.5074626803398132, 0.46268656849861145, 0.5447761416435242, 0.5373134613037109, 0.5597015023231506, 0.5447761416435242, 0.5447761416435242, 0.5298507213592529, 0.6268656849861145, 0.6268656849861145, 0.6194030046463013, 0.5522388219833374, 0.60447758436203, 0.6268656849861145, 0.6567164063453674, 0.6492537260055542, 0.5895522236824036, 0.5820895433425903, 0.5671641826629639, 0.5522388219833374, 0.5447761416435242, 0.5746268630027771, 0.6268656849861145, 0.5671641826629639, 0.611940324306488, 0.5820895433425903, 0.6492537260055542, 0.6567164063453674]}\n"
     ]
    }
   ],
   "source": [
    "# Training the RNN.\n",
    "history = model.fit(X_train_3D_posed, y_train_onehot, batch_size=16, epochs=30, verbose=1, validation_data=(X_val_3D_posed, y_val_onehot)) # 80% training / 20% validation\n",
    "\n",
    "print(history.history)"
   ]
  },
  {
   "cell_type": "markdown",
   "metadata": {},
   "source": [
    "<h1>Plotting the Accuracy Curves</h1>\n",
    "\n"
   ]
  },
  {
   "cell_type": "code",
   "execution_count": 12,
   "metadata": {},
   "outputs": [
    {
     "data": {
      "image/png": "[encoded data removed]",
      "text/plain": [
       "<Figure size 432x288 with 1 Axes>"
      ]
     },
     "metadata": {
      "needs_background": "light"
     },
     "output_type": "display_data"
    }
   ],
   "source": [
    "# Plot the training and validation accuracies vs. epochs for the latest loop iteration.\n",
    "fig = plt.figure()\n",
    "plt.plot(history.history['categorical_accuracy'])\n",
    "plt.plot(history.history['val_categorical_accuracy'])\n",
    "plt.title('RNN_RAVDESS')\n",
    "plt.grid()\n",
    "plt.ylabel('accuracy')\n",
    "plt.xlabel('epoch')\n",
    "plt.legend(['train', 'validation'], loc='upper left')\n",
    "plt.show()"
   ]
  },
  {
   "cell_type": "markdown",
   "metadata": {},
   "source": [
    "<h1>Plotting the Loss Curves</h1>"
   ]
  },
  {
   "cell_type": "code",
   "execution_count": 13,
   "metadata": {},
   "outputs": [
    {
     "data": {
      "image/png": "[encoded data removed]",
      "text/plain": [
       "<Figure size 432x288 with 1 Axes>"
      ]
     },
     "metadata": {
      "needs_background": "light"
     },
     "output_type": "display_data"
    }
   ],
   "source": [
    "# Plot the training and validation losses vs. epochs for the latest loop iteration.\n",
    "fig = plt.figure()\n",
    "plt.plot(history.history['loss'])\n",
    "plt.plot(history.history['val_loss'])\n",
    "plt.title('RNN_RAVDESS')\n",
    "plt.grid()\n",
    "plt.ylabel('loss')\n",
    "plt.xlabel('epoch')\n",
    "plt.legend(['train', 'validation'], loc='upper left')\n",
    "plt.show()"
   ]
  },
  {
   "cell_type": "markdown",
   "metadata": {},
   "source": [
    "<h1>Evaluating the Model on Test Set</h1>"
   ]
  },
  {
   "cell_type": "code",
   "execution_count": 14,
   "metadata": {},
   "outputs": [
    {
     "name": "stdout",
     "output_type": "stream",
     "text": [
      "9/9 [==============================] - 0s 21ms/step - loss: 1.6359 - categorical_accuracy: 0.6418\n",
      "test loss, test acc: [1.6359246969223022, 0.641791045665741]\n"
     ]
    }
   ],
   "source": [
    "# Evaluate the model on the test data.\n",
    "results = model.evaluate(X_test_3D_posed, y_test_onehot, batch_size=16)\n",
    "print(\"test loss, test acc:\", results)"
   ]
  },
  {
   "cell_type": "markdown",
   "metadata": {},
   "source": [
    "<h1>Saving the Model</h1>"
   ]
  },
  {
   "cell_type": "code",
   "execution_count": null,
   "metadata": {},
   "outputs": [],
   "source": [
    "# Saving the model.\n",
    "model.save('RNN_RAVDESS.h5')\n",
    "\n",
    "# Save mean and standard deviation arrays of features.\n",
    "np.save('mean_X.npy', mean_X)\n",
    "np.save('std_X.npy', std_X)"
   ]
  },
  {
   "cell_type": "code",
   "execution_count": null,
   "metadata": {},
   "outputs": [],
   "source": []
  }
 ],
 "metadata": {
  "kernelspec": {
   "display_name": "Python 3",
   "language": "python",
   "name": "python3"
  },
  "language_info": {
   "codemirror_mode": {
    "name": "ipython",
    "version": 3
   },
   "file_extension": ".py",
   "mimetype": "text/x-python",
   "name": "python",
   "nbconvert_exporter": "python",
   "pygments_lexer": "ipython3",
   "version": "3.8.3"
  }
 },
 "nbformat": 4,
 "nbformat_minor": 4
}
